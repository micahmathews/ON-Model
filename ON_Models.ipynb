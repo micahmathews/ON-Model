{
 "cells": [
  {
   "cell_type": "code",
   "execution_count": null,
   "metadata": {
    "colab": {
     "base_uri": "https://localhost:8080/"
    },
    "id": "6e2LfJI9khQe",
    "outputId": "b48fa5aa-c206-47d2-d0a2-27e49ca15b37"
   },
   "outputs": [],
   "source": [
    "!pip install yfinance\n",
    "!pip install scalecast\n",
    "import yfinance as yf\n",
    "import pandas as pd\n",
    "import numpy as np\n",
    "import matplotlib.pyplot as plt\n",
    "import math as math\n",
    "import seaborn as sns\n",
    "from random import random\n",
    "from scipy.stats import norm\n",
    "from scipy.stats import stats\n",
    "from scalecast.Forecaster import Forecaster"
   ]
  },
  {
   "cell_type": "markdown",
   "metadata": {
    "id": "Afiu39JqpXHt"
   },
   "source": [
    "# Rolling Sharpe"
   ]
  },
  {
   "cell_type": "code",
   "execution_count": null,
   "metadata": {
    "colab": {
     "base_uri": "https://localhost:8080/"
    },
    "id": "JNvZNzve2KJM",
    "outputId": "6a6cf648-7ed8-434e-dc2a-30aa1fd85a52"
   },
   "outputs": [],
   "source": [
    "\n",
    "def get_returns(ticker, start_date):\n",
    "    # Pull Historical Data\n",
    "    data = yf.download(ticker, start=start_date)\n",
    "    # Calculate Daily Returns\n",
    "    data['Daily Return'] = data['Adj Close'].pct_change()\n",
    "    return data.dropna()\n",
    "\n",
    "#Rolling sharpe calculation (daily return pct divided by std of returns)\n",
    "tnx = yf.Ticker('^TNX')\n",
    "risk_free_rate = tnx.info.get('previousClose') * 0.01\n",
    "\n",
    "data = get_returns('ON', '2022-08-01')\n",
    "data['sharpe'] = (data['Daily Return'] - risk_free_rate) / np.std(data['Daily Return'])\n",
    "data['sharpe'].plot(kind='line', figsize=(15,6))\n"
   ]
  },
  {
   "cell_type": "markdown",
   "metadata": {
    "id": "hffXhZuE9_dj"
   },
   "source": [
    "# Discounted Cash Flow Analysis"
   ]
  },
  {
   "cell_type": "code",
   "execution_count": null,
   "metadata": {
    "id": "2ZppTdel_jTX"
   },
   "outputs": [],
   "source": [
    "class DCF:\n",
    "\n",
    "  def __init__(self, symbol, proj_growth, tgr):\n",
    "    self._ticker = yf.Ticker(symbol)\n",
    "    # projected growth rates for operating cash flow\n",
    "    self._proj_growth = proj_growth\n",
    "    # forecasting period\n",
    "    self._period = len(self._proj_growth)\n",
    "    # terminal growth rate\n",
    "    self._tgr = tgr\n",
    "\n",
    "    self._info = self._ticker.info\n",
    "    # reverse col order (ascending FYE)\n",
    "    self._financials = self._ticker.financials[self._ticker.financials.columns[::-1]]\n",
    "    self._balance_sheet = self._ticker.balance_sheet[self._ticker.balance_sheet.columns[::-1]]\n",
    "    self._cash_flow = self._ticker.cashflow[self._ticker.cashflow.columns[::-1]]\n",
    "    self._wacc = self.wacc()\n",
    "    # round all figures to 2 decimal places\n",
    "    pd.set_option('display.float_format', lambda x: '%.2f' % x)\n",
    "\n",
    "  def prep(self):\n",
    "    op_cf = self._cash_flow.loc['Total Cash From Operating Activities']\n",
    "    capex = self._cash_flow.loc['Capital Expenditures']\n",
    "    # CapEx as % of operating cash flow\n",
    "    pcnts_capex_op_cf = capex.multiply(-1).div(op_cf)\n",
    "    avg_pcnt = pcnts_capex_op_cf.mean()\n",
    "    df_prep = self._cash_flow.loc[['Total Cash From Operating Activities']]\n",
    "    df_prep.loc['CapEx'] = capex.multiply(-1)\n",
    "    for i in range(self._period):\n",
    "      proj_op_cf = df_prep.iat[0, -1] * (1 + self._proj_growth[i])\n",
    "      proj_capex = avg_pcnt * proj_op_cf\n",
    "      df_prep[i + 1] = [proj_op_cf, proj_capex]\n",
    "    df_prep.loc['Free Cash Flow'] = df_prep.sum()\n",
    "    return df_prep\n",
    "\n",
    "  def dcf(self):\n",
    "    df_dcf = self.prep()\n",
    "    wacc = self._wacc\n",
    "    df_dcf.loc['Present Value of FCF'] = 0\n",
    "    for i in range(self._period):\n",
    "      curr_fcf = df_dcf.at['Free Cash Flow', i + 1] \n",
    "      df_dcf.at['Present Value of FCF', i + 1] = curr_fcf / (1 + wacc)**(i + 1)\n",
    "    return df_dcf\n",
    "\n",
    "  def share_price(self):\n",
    "    df_dcf = self.dcf()\n",
    "    wacc = self._wacc\n",
    "    last_fcf = df_dcf.at['Free Cash Flow', self._period]\n",
    "    tv = (last_fcf * (1 + self._tgr)) / (wacc - self._tgr)\n",
    "    pv_tv = tv / (1 + wacc)**(self._period)\n",
    "    enterprise_value = df_dcf.loc['Present Value of FCF'].sum() + pv_tv\n",
    "    cash = self._balance_sheet.loc['Cash'][-1]\n",
    "    debt = self._balance_sheet.loc['Long Term Debt'][-1]\n",
    "    equity_value = enterprise_value + cash - debt\n",
    "    shares = self._info.get('sharesOutstanding')\n",
    "    share_price = equity_value / shares\n",
    "    d = [tv, pv_tv, enterprise_value, cash, debt, equity_value, shares, \n",
    "         share_price]\n",
    "    df_sp = pd.DataFrame(data=d, columns=['All numbers in dollars'])\n",
    "    df_sp.index = ['Terminal Value', 'Present Value of Terminal Value',\n",
    "                   'Enterprise Value', 'Cash', 'Debt', 'Equity Value', 'Shares',\n",
    "                   'Implied Share Price']\n",
    "    return df_sp\n",
    "\n",
    "  def wacc(self):\n",
    "    # treasury yield for risk free rate\n",
    "    tnx = yf.Ticker('^TNX')\n",
    "    rfr = tnx.info.get('previousClose') * 0.01\n",
    "    # beta\n",
    "    b = self._info.get('beta')\n",
    "    # equity risk premium\n",
    "    erp = 0.056\n",
    "\n",
    "    # calculate mean tax rate\n",
    "    taxes = self._financials.loc['Income Tax Expense'].abs()\n",
    "    ebit = self._financials.loc['Ebit']\n",
    "    tax_rates = taxes.div(ebit)\n",
    "    tc = tax_rates.mean()\n",
    "   \n",
    "    # calculate cost of equity\n",
    "    cost_equity = rfr + b * (erp - rfr)\n",
    "    # market value of equity (market capitalization)\n",
    "    e = self._info.get('marketCap')\n",
    "\n",
    "    # calculate cost of debt\n",
    "    interests = self._financials.loc['Interest Expense'].multiply(-1)\n",
    "    debts = self._balance_sheet.loc['Long Term Debt']\n",
    "    int_rates = interests.div(debts)\n",
    "    avg_int_rate = int_rates.mean()\n",
    "    cost_debt = avg_int_rate * (1 - tc)\n",
    "    # market value of debt (most recent debt figure)\n",
    "    d = debts[-1]\n",
    "\n",
    "    # for ratios\n",
    "    v = e + d\n",
    "\n",
    "    # equation\n",
    "    wacc = (e/v * cost_equity) + (d/v * cost_debt * (1 - tc))\n",
    "    return wacc"
   ]
  },
  {
   "cell_type": "markdown",
   "metadata": {
    "id": "0YRL-LrBkeDd"
   },
   "source": [
    "# DCF Example: $NVDA"
   ]
  },
  {
   "cell_type": "code",
   "execution_count": null,
   "metadata": {
    "id": "NgvE7OdsYhYq"
   },
   "outputs": [],
   "source": [
    "# symbol = 'NVDA'\n",
    "# proj_growth = [0.35, 0.25, 0.15]\n",
    "# tgr = 0.025\n",
    "# nvda = DCF(symbol, proj_growth, tgr)"
   ]
  },
  {
   "cell_type": "code",
   "execution_count": null,
   "metadata": {
    "id": "ipjATDUxaj9h"
   },
   "outputs": [],
   "source": [
    "# nvda.wacc()"
   ]
  },
  {
   "cell_type": "markdown",
   "metadata": {
    "id": "XGZ6goIV-nBn"
   },
   "source": [
    "WACC = (E/V * Re) + (D/V * Rd * (1 - Tc))\n",
    "\n",
    "\n",
    "WACC = Weighted Average Cost of Capital\n",
    "\n",
    "E = Market Value of Equity\n",
    "\n",
    "D = Market Value of Debt\n",
    "\n",
    "V = E + D\n",
    "\n",
    "Re = Cost of Equity\n",
    "\n",
    "Rd = Cost of Debt\n",
    "\n",
    "Tc = Corporate Tax Rate"
   ]
  },
  {
   "cell_type": "code",
   "execution_count": null,
   "metadata": {
    "id": "49GIO9lZjD5f"
   },
   "outputs": [],
   "source": [
    "# nvda.prep()"
   ]
  },
  {
   "cell_type": "markdown",
   "metadata": {
    "id": "FmOjMq63l4y_"
   },
   "source": [
    "Free Cash Flow (FCF) = Operating Cash Flow - Capital Expenditures"
   ]
  },
  {
   "cell_type": "code",
   "execution_count": null,
   "metadata": {
    "id": "Z239m5IUiQud"
   },
   "outputs": [],
   "source": [
    "# nvda.dcf()"
   ]
  },
  {
   "cell_type": "markdown",
   "metadata": {
    "id": "LKtW6841l_qP"
   },
   "source": [
    "Present Value of FCF = FCF / (1 + WACC)^n"
   ]
  },
  {
   "cell_type": "markdown",
   "metadata": {
    "id": "OKk1936QGJ-z"
   },
   "source": [
    "Current Share Price: $125.99"
   ]
  },
  {
   "cell_type": "code",
   "execution_count": null,
   "metadata": {
    "id": "nIynfMfvamsE"
   },
   "outputs": [],
   "source": [
    "# nvda.share_price()"
   ]
  },
  {
   "cell_type": "markdown",
   "metadata": {
    "id": "cD66WZmQjsyM"
   },
   "source": [
    "Terminal Value = (FCF_k * (1 + TGR)) / (WACC - TGR)\n",
    "\n",
    "Present Value of Terminal Value = Terminal Value / (1 + WACC)^k\n",
    "\n",
    "Enterprise Value = (sum of all Present Value of FCF) + Present Value of Terminal Value\n",
    "\n",
    "Equity Value = Enterprise Value + Cash - Debt\n",
    "\n",
    "Implied Share Price = Equity Value / Shares"
   ]
  },
  {
   "cell_type": "markdown",
   "metadata": {
    "id": "3JK6GIcNqUkE"
   },
   "source": [
    "# DCF: $GFL"
   ]
  },
  {
   "cell_type": "code",
   "execution_count": null,
   "metadata": {
    "id": "C_mFxp3CqbcN"
   },
   "outputs": [],
   "source": [
    "symbol = 'ON'\n",
    "proj_growth = [0.15, 0.10, 0.05] # operating cash flow\n",
    "tgr = 0.025 # terminal growth rate\n",
    "gfl = DCF(symbol, proj_growth, tgr)"
   ]
  },
  {
   "cell_type": "code",
   "execution_count": null,
   "metadata": {
    "colab": {
     "base_uri": "https://localhost:8080/"
    },
    "id": "irZNn78gqsrn",
    "outputId": "dd063f4f-1ffe-4a4d-86fb-2e6924e836b7"
   },
   "outputs": [],
   "source": [
    "gfl.wacc()"
   ]
  },
  {
   "cell_type": "code",
   "execution_count": null,
   "metadata": {
    "colab": {
     "base_uri": "https://localhost:8080/",
     "height": 143
    },
    "id": "FnrpLil1quIM",
    "outputId": "d86f6f44-05e9-4b04-deb2-3ab5e83cbf62"
   },
   "outputs": [],
   "source": [
    "gfl.prep()"
   ]
  },
  {
   "cell_type": "code",
   "execution_count": null,
   "metadata": {
    "colab": {
     "base_uri": "https://localhost:8080/",
     "height": 175
    },
    "id": "nlrf-kWyqvT4",
    "outputId": "53f13e75-53f6-4257-d3dc-e5a5a79f2c84"
   },
   "outputs": [],
   "source": [
    "gfl.dcf()"
   ]
  },
  {
   "cell_type": "markdown",
   "metadata": {
    "id": "ExdtLOpDGS_G"
   },
   "source": [
    "Current Share Price: $25.64"
   ]
  },
  {
   "cell_type": "code",
   "execution_count": null,
   "metadata": {
    "colab": {
     "base_uri": "https://localhost:8080/",
     "height": 300
    },
    "id": "D7VGppQYqwaU",
    "outputId": "02b54165-643c-4d58-d01c-21f21086d88f"
   },
   "outputs": [],
   "source": [
    "gfl.share_price()"
   ]
  },
  {
   "cell_type": "markdown",
   "metadata": {
    "id": "oT4gEpbQtRsC"
   },
   "source": [
    "# Monte Carlo Model"
   ]
  },
  {
   "cell_type": "code",
   "execution_count": null,
   "metadata": {
    "colab": {
     "base_uri": "https://localhost:8080/",
     "height": 659
    },
    "id": "9Et_geJGxMwD",
    "outputId": "679641ae-aa80-4e0d-cfca-7ef80c403b5d"
   },
   "outputs": [],
   "source": [
    "# Defining the Ticker\n",
    "ticker = yf.Ticker('ON')\n",
    "\n",
    "# Obtaining Historical Market Data\n",
    "start_date = '2020-05-01'\n",
    "end_date = '2022-11-04'\n",
    "hist = ticker.history(start=start_date, end=end_date)\n",
    "#print(hist.head())\n",
    "\n",
    "# Pulling Closing Price Data\n",
    "hist = hist[['Close']]\n",
    "print(hist)\n",
    "\n",
    "# Plotting Price Data\n",
    "hist['Close'].plot(title=\"GFL Stock Price\", ylabel=\n",
    "                   \"Closing Price [$]\", figsize=[10, 6])\n",
    "plt.grid()"
   ]
  },
  {
   "cell_type": "code",
   "execution_count": null,
   "metadata": {
    "colab": {
     "base_uri": "https://localhost:8080/"
    },
    "id": "tdr6sNWIxsFG",
    "outputId": "bcf20d81-9f7e-45bd-fcee-b585ece03451"
   },
   "outputs": [],
   "source": [
    "# Create Day Count, Price, and Change Lists\n",
    "days = [i for i in range(1, len(hist['Close'])+1)]\n",
    "price_orig = hist['Close'].tolist()\n",
    "change = hist['Close'].pct_change().tolist()\n",
    "change = change[1:]  # Removing the first term since it is NaN\n",
    "\n",
    "# Statistics for Use in Model\n",
    "mean = np.mean(change)\n",
    "std_dev = np.std(change)\n",
    "print('\\nMean percent change: ' + str(round(mean*100, 2)) + '%')\n",
    "print('Standard Deviation of percent change: ' +   \n",
    "      str(round(std_dev*100, 2)) + '%')"
   ]
  },
  {
   "cell_type": "code",
   "execution_count": null,
   "metadata": {
    "colab": {
     "base_uri": "https://localhost:8080/",
     "height": 475
    },
    "id": "XxmSr1bDxx5A",
    "outputId": "41092c61-9206-4644-97a6-1fdedd57bf10"
   },
   "outputs": [],
   "source": [
    "# Simulation Number and Prediction Period\n",
    "simulations = 100 # Change for more results\n",
    "days_to_sim = 1*252 # Trading days in 1 year\n",
    "\n",
    "# Initializing Figure for Simulation\n",
    "fig = plt.figure(figsize=[10, 6])\n",
    "plt.plot(days, price_orig)\n",
    "plt.title(\"Monte Carlo Stock Prices [\" + str(simulations) + \n",
    "          \" simulations]\")\n",
    "plt.xlabel(\"Trading Days After \" + start_date)\n",
    "plt.ylabel(\"Closing Price [$]\")\n",
    "plt.xlim([0, len(days)+days_to_sim])\n",
    "plt.grid()\n",
    "\n",
    "# Initializing Lists for Analysis\n",
    "close_end = []\n",
    "above_close = []\n",
    "hpr = [] # holding period returns\n",
    "\n",
    "# For Loop for Number of Simulations Desired\n",
    "for i in range(simulations):\n",
    "    num_days = [days[-1]]\n",
    "    close_price = [hist.iloc[-1, 0]]\n",
    "    last_price = close_price[-1] # before sim\n",
    "\n",
    "    # For Loop for Number of Days to Predict\n",
    "    for j in range(days_to_sim):\n",
    "        num_days.append(num_days[-1]+1)\n",
    "        perc_change = norm.ppf(random(), loc=mean, scale=std_dev)\n",
    "        close_price.append(close_price[-1]*(1+perc_change)) # random walk\n",
    "\n",
    "    if close_price[-1] > price_orig[-1]:\n",
    "        above_close.append(1)\n",
    "    else:\n",
    "        above_close.append(0)\n",
    "\n",
    "    close_end.append(close_price[-1])\n",
    "    \n",
    "    # calculate holding period return\n",
    "    curr_hpr = (close_end[-1] - last_price)/last_price * 100\n",
    "    hpr.append(curr_hpr)\n",
    "\n",
    "    plt.plot(num_days, close_price)\n",
    "\n",
    "# Average Closing Price and Probability of Increasing After 1 Year\n",
    "average_closing_price = sum(close_end)/simulations\n",
    "average_perc_change = (average_closing_price-\n",
    "                       price_orig[-1])/price_orig[-1]\n",
    "probability_of_increase = sum(above_close)/simulations\n",
    "print('\\nPredicted closing price after ' + str(simulations) + \n",
    "      ' simulations: $' + str(round(average_closing_price, 2)))\n",
    "print('Predicted percent increase after 1 year: ' + \n",
    "      str(round(average_perc_change*100, 2)) + '%')\n",
    "print('Probability of stock price increasing after 1 year: ' + \n",
    "      str(round(probability_of_increase*100, 2)) + '%')\n",
    "\n",
    "# Displaying the Monte Carlo Simulation Lines\n",
    "plt.show()"
   ]
  },
  {
   "cell_type": "code",
   "execution_count": null,
   "metadata": {
    "colab": {
     "base_uri": "https://localhost:8080/",
     "height": 295
    },
    "id": "dGzLp5bK179u",
    "outputId": "7abe8f4d-9e29-423b-e909-1a9d6bbfee3a"
   },
   "outputs": [],
   "source": [
    "sns.histplot(hpr, kde=True, bins=20, color='green')\n",
    "plt.title('Holding Period Return Distribution')\n",
    "plt.xlabel('HPR %')\n",
    "plt.axvline(np.percentile(hpr, 5), color='r', linestyle='dashed',\n",
    "            linewidth=2)\n",
    "plt.axvline(np.percentile(hpr, 95), color='r', linestyle='dashed',\n",
    "            linewidth=2)\n",
    "plt.show()\n",
    "# Skewed right"
   ]
  },
  {
   "cell_type": "markdown",
   "metadata": {
    "id": "ExJjvoLZXc_S"
   },
   "source": [
    "# Time Series Forecasting: LSTM"
   ]
  },
  {
   "cell_type": "code",
   "execution_count": null,
   "metadata": {
    "colab": {
     "base_uri": "https://localhost:8080/",
     "height": 423
    },
    "id": "-B-MtinFXoFh",
    "outputId": "29a5f2e7-60e0-40f7-df78-e8ffb11392d3"
   },
   "outputs": [],
   "source": [
    "gfl = yf.Ticker('ON')\n",
    "close = gfl.history(period='max')[['Close']]\n",
    "close.index = close.index.date\n",
    "close"
   ]
  },
  {
   "cell_type": "code",
   "execution_count": null,
   "metadata": {
    "colab": {
     "base_uri": "https://localhost:8080/",
     "height": 394
    },
    "id": "s98Ld6OEYMYf",
    "outputId": "ab5e17bf-1632-4c91-d159-27c93d1e2213"
   },
   "outputs": [],
   "source": [
    "close.plot(figsize=(15, 6))"
   ]
  },
  {
   "cell_type": "code",
   "execution_count": null,
   "metadata": {
    "colab": {
     "base_uri": "https://localhost:8080/",
     "height": 545
    },
    "id": "vZiYiiTqYQi5",
    "outputId": "0e246006-0bfd-45a7-a300-581c2af700c9"
   },
   "outputs": [],
   "source": [
    "f = Forecaster(y=close['Close'], current_dates=close.index)\n",
    "f.plot_pacf(lags=34)"
   ]
  },
  {
   "cell_type": "code",
   "execution_count": null,
   "metadata": {
    "colab": {
     "base_uri": "https://localhost:8080/",
     "height": 497
    },
    "id": "xpdtYXdEaG5v",
    "outputId": "3a72ab7b-ed24-4561-c23d-980c9e470d64"
   },
   "outputs": [],
   "source": [
    "f.set_test_length(800) # Testing using ~ 30% of data\n",
    "f.generate_future_dates(183) # 1 year forecast\n",
    "f.set_estimator('lstm')\n",
    "f.manual_forecast(call_me='lstm_default')\n",
    "f.plot_test_set(ci=True)"
   ]
  },
  {
   "cell_type": "code",
   "execution_count": null,
   "metadata": {
    "colab": {
     "base_uri": "https://localhost:8080/",
     "height": 1000
    },
    "id": "BSlFY0hradm3",
    "outputId": "3a83f85f-e520-410f-ca39-889d05e9af31"
   },
   "outputs": [],
   "source": [
    "f.manual_forecast(call_me='predictions',\n",
    "                  lags=10,\n",
    "                  epochs=12,\n",
    "                  validation_split=.2,\n",
    "                  shuffle=True)\n",
    "f.plot_test_set(order_by='LevelTestSetMAPE', models='top_2', ci=True)"
   ]
  },
  {
   "cell_type": "code",
   "execution_count": null,
   "metadata": {
    "colab": {
     "base_uri": "https://localhost:8080/",
     "height": 408
    },
    "id": "p6dKGES6ayqg",
    "outputId": "8057dba4-b7ac-4f5e-f865-becaa5d20369"
   },
   "outputs": [],
   "source": [
    "f.plot(models=['predictions'],\n",
    "       order_by='LevelTestSetMAPE',\n",
    "       level=True)"
   ]
  },
  {
   "cell_type": "code",
   "execution_count": null,
   "metadata": {
    "colab": {
     "base_uri": "https://localhost:8080/",
     "height": 126
    },
    "id": "Rnz1brPLwdUr",
    "outputId": "f3a367fc-d839-4044-efe3-543f550314ad"
   },
   "outputs": [],
   "source": [
    "vals = f.export('best_fcst')\n",
    "del vals['MODEL']\n",
    "vals.index = vals['DATE'].dt.strftime('%Y-%m-%d')\n",
    "del vals['DATE']\n",
    "vals.to_json()"
   ]
  }
 ],
 "metadata": {
  "colab": {
   "provenance": []
  },
  "kernelspec": {
   "display_name": "Python 3 (ipykernel)",
   "language": "python",
   "name": "python3"
  },
  "language_info": {
   "codemirror_mode": {
    "name": "ipython",
    "version": 3
   },
   "file_extension": ".py",
   "mimetype": "text/x-python",
   "name": "python",
   "nbconvert_exporter": "python",
   "pygments_lexer": "ipython3",
   "version": "3.9.12"
  }
 },
 "nbformat": 4,
 "nbformat_minor": 1
}
